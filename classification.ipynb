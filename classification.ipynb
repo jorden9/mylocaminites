{
 "cells": [
  {
   "cell_type": "code",
   "execution_count": 79,
   "metadata": {},
   "outputs": [],
   "source": [
    "import pandas as pd "
   ]
  },
  {
   "cell_type": "code",
   "execution_count": 80,
   "metadata": {},
   "outputs": [],
   "source": [
    "shopping=pd.read_csv('Data/Shooping.csv')\n",
    "Food=pd.read_csv('Data/Food.csv')\n",
    "Medical=pd.read_csv('Data/Medicals.csv')\n",
    "Grocery=pd.read_csv('Data/Grocery.csv')\n"
   ]
  },
  {
   "cell_type": "code",
   "execution_count": 81,
   "metadata": {},
   "outputs": [
    {
     "data": {
      "text/html": [
       "<div>\n",
       "<style scoped>\n",
       "    .dataframe tbody tr th:only-of-type {\n",
       "        vertical-align: middle;\n",
       "    }\n",
       "\n",
       "    .dataframe tbody tr th {\n",
       "        vertical-align: top;\n",
       "    }\n",
       "\n",
       "    .dataframe thead th {\n",
       "        text-align: right;\n",
       "    }\n",
       "</style>\n",
       "<table border=\"1\" class=\"dataframe\">\n",
       "  <thead>\n",
       "    <tr style=\"text-align: right;\">\n",
       "      <th></th>\n",
       "      <th>Name</th>\n",
       "      <th>Longitude</th>\n",
       "      <th>Lattitude</th>\n",
       "      <th>Target</th>\n",
       "    </tr>\n",
       "  </thead>\n",
       "  <tbody>\n",
       "    <tr>\n",
       "      <th>0</th>\n",
       "      <td>A STAR FASHION BOUTIQUE</td>\n",
       "      <td>19.384304</td>\n",
       "      <td>72.827793</td>\n",
       "      <td>Shopping</td>\n",
       "    </tr>\n",
       "    <tr>\n",
       "      <th>1</th>\n",
       "      <td>Asuntha Tailoring &amp; Alterations</td>\n",
       "      <td>19.385840</td>\n",
       "      <td>72.828644</td>\n",
       "      <td>Shopping</td>\n",
       "    </tr>\n",
       "    <tr>\n",
       "      <th>2</th>\n",
       "      <td>Glam By Neha Fashion</td>\n",
       "      <td>19.383251</td>\n",
       "      <td>72.828317</td>\n",
       "      <td>Shopping</td>\n",
       "    </tr>\n",
       "    <tr>\n",
       "      <th>3</th>\n",
       "      <td>U.S. Polo Assn.\\r</td>\n",
       "      <td>19.382892</td>\n",
       "      <td>72.828638</td>\n",
       "      <td>Shopping</td>\n",
       "    </tr>\n",
       "    <tr>\n",
       "      <th>4</th>\n",
       "      <td>Levi's Exclusive Store-Vasai</td>\n",
       "      <td>19.382819</td>\n",
       "      <td>72.828690</td>\n",
       "      <td>Shopping</td>\n",
       "    </tr>\n",
       "  </tbody>\n",
       "</table>\n",
       "</div>"
      ],
      "text/plain": [
       "                             Name   Longitude  Lattitude    Target\n",
       "0          A STAR FASHION BOUTIQUE  19.384304  72.827793  Shopping\n",
       "1  Asuntha Tailoring & Alterations  19.385840  72.828644  Shopping\n",
       "2             Glam By Neha Fashion  19.383251  72.828317  Shopping\n",
       "3                U.S. Polo Assn.\\r  19.382892  72.828638  Shopping\n",
       "4     Levi's Exclusive Store-Vasai  19.382819  72.828690  Shopping"
      ]
     },
     "execution_count": 81,
     "metadata": {},
     "output_type": "execute_result"
    }
   ],
   "source": [
    "shopping.head()"
   ]
  },
  {
   "cell_type": "code",
   "execution_count": 82,
   "metadata": {},
   "outputs": [
    {
     "data": {
      "text/html": [
       "<div>\n",
       "<style scoped>\n",
       "    .dataframe tbody tr th:only-of-type {\n",
       "        vertical-align: middle;\n",
       "    }\n",
       "\n",
       "    .dataframe tbody tr th {\n",
       "        vertical-align: top;\n",
       "    }\n",
       "\n",
       "    .dataframe thead th {\n",
       "        text-align: right;\n",
       "    }\n",
       "</style>\n",
       "<table border=\"1\" class=\"dataframe\">\n",
       "  <thead>\n",
       "    <tr style=\"text-align: right;\">\n",
       "      <th></th>\n",
       "      <th>Name</th>\n",
       "      <th>Longitude</th>\n",
       "      <th>Lattitude</th>\n",
       "      <th>Target</th>\n",
       "    </tr>\n",
       "  </thead>\n",
       "  <tbody>\n",
       "    <tr>\n",
       "      <th>0</th>\n",
       "      <td>sunshine chemist</td>\n",
       "      <td>19.392071</td>\n",
       "      <td>72.825792</td>\n",
       "      <td>Medical</td>\n",
       "    </tr>\n",
       "    <tr>\n",
       "      <th>1</th>\n",
       "      <td>G.S pharmacy vasai</td>\n",
       "      <td>19.388913</td>\n",
       "      <td>72.830426</td>\n",
       "      <td>Medical</td>\n",
       "    </tr>\n",
       "    <tr>\n",
       "      <th>2</th>\n",
       "      <td>Rathod chemist</td>\n",
       "      <td>19.384375</td>\n",
       "      <td>72.833049</td>\n",
       "      <td>Medical</td>\n",
       "    </tr>\n",
       "    <tr>\n",
       "      <th>3</th>\n",
       "      <td>Micro chemist</td>\n",
       "      <td>19.381461</td>\n",
       "      <td>72.831772</td>\n",
       "      <td>Medical</td>\n",
       "    </tr>\n",
       "    <tr>\n",
       "      <th>4</th>\n",
       "      <td>Shree bhavni chemist</td>\n",
       "      <td>19.377231</td>\n",
       "      <td>72.829396</td>\n",
       "      <td>Medical</td>\n",
       "    </tr>\n",
       "  </tbody>\n",
       "</table>\n",
       "</div>"
      ],
      "text/plain": [
       "                   Name   Longitude  Lattitude   Target\n",
       "0      sunshine chemist   19.392071  72.825792  Medical\n",
       "1     G.S pharmacy vasai  19.388913  72.830426  Medical\n",
       "2         Rathod chemist  19.384375  72.833049  Medical\n",
       "3          Micro chemist  19.381461  72.831772  Medical\n",
       "4  Shree bhavni chemist   19.377231  72.829396  Medical"
      ]
     },
     "execution_count": 82,
     "metadata": {},
     "output_type": "execute_result"
    }
   ],
   "source": [
    "Medical.head()"
   ]
  },
  {
   "cell_type": "code",
   "execution_count": 83,
   "metadata": {},
   "outputs": [
    {
     "data": {
      "text/html": [
       "<div>\n",
       "<style scoped>\n",
       "    .dataframe tbody tr th:only-of-type {\n",
       "        vertical-align: middle;\n",
       "    }\n",
       "\n",
       "    .dataframe tbody tr th {\n",
       "        vertical-align: top;\n",
       "    }\n",
       "\n",
       "    .dataframe thead th {\n",
       "        text-align: right;\n",
       "    }\n",
       "</style>\n",
       "<table border=\"1\" class=\"dataframe\">\n",
       "  <thead>\n",
       "    <tr style=\"text-align: right;\">\n",
       "      <th></th>\n",
       "      <th>Name</th>\n",
       "      <th>address</th>\n",
       "      <th>Longitude</th>\n",
       "      <th>Lattitude</th>\n",
       "      <th>Target</th>\n",
       "    </tr>\n",
       "  </thead>\n",
       "  <tbody>\n",
       "    <tr>\n",
       "      <th>0</th>\n",
       "      <td>Jalaram Kirana Stores</td>\n",
       "      <td>Shop Number 1,2, Vishwakarma Paradise, Ambadi ...</td>\n",
       "      <td>19.383820</td>\n",
       "      <td>72.827441</td>\n",
       "      <td>Grocery</td>\n",
       "    </tr>\n",
       "    <tr>\n",
       "      <th>1</th>\n",
       "      <td>Vedika Kirana And General Store</td>\n",
       "      <td>Shop No.02 Lourds B Co op Hsg Society, Pareira...</td>\n",
       "      <td>19.385399</td>\n",
       "      <td>72.824515</td>\n",
       "      <td>Grocery</td>\n",
       "    </tr>\n",
       "    <tr>\n",
       "      <th>2</th>\n",
       "      <td>Vardhman Grain Stores</td>\n",
       "      <td>1, Guruprasad Apartment, Ambadi Circle, Veer S...</td>\n",
       "      <td>19.381146</td>\n",
       "      <td>72.829525</td>\n",
       "      <td>Grocery</td>\n",
       "    </tr>\n",
       "    <tr>\n",
       "      <th>3</th>\n",
       "      <td>J J Store</td>\n",
       "      <td>Shop No 1, Dindayal Nagar, Vasai West, Vasai-V...</td>\n",
       "      <td>19.381672</td>\n",
       "      <td>72.828753</td>\n",
       "      <td>Grocery</td>\n",
       "    </tr>\n",
       "    <tr>\n",
       "      <th>4</th>\n",
       "      <td>Nyra Mini Market</td>\n",
       "      <td>Shop No. 6&amp;7, Dream House, Vasai Rd E, opp. K....</td>\n",
       "      <td>19.381956</td>\n",
       "      <td>72.827817</td>\n",
       "      <td>Grocery</td>\n",
       "    </tr>\n",
       "  </tbody>\n",
       "</table>\n",
       "</div>"
      ],
      "text/plain": [
       "                             Name   \\\n",
       "0            Jalaram Kirana Stores   \n",
       "1  Vedika Kirana And General Store   \n",
       "2            Vardhman Grain Stores   \n",
       "3                        J J Store   \n",
       "4                 Nyra Mini Market   \n",
       "\n",
       "                                             address  Longitude  Lattitude  \\\n",
       "0  Shop Number 1,2, Vishwakarma Paradise, Ambadi ...  19.383820  72.827441   \n",
       "1  Shop No.02 Lourds B Co op Hsg Society, Pareira...  19.385399  72.824515   \n",
       "2  1, Guruprasad Apartment, Ambadi Circle, Veer S...  19.381146  72.829525   \n",
       "3  Shop No 1, Dindayal Nagar, Vasai West, Vasai-V...  19.381672  72.828753   \n",
       "4  Shop No. 6&7, Dream House, Vasai Rd E, opp. K....  19.381956  72.827817   \n",
       "\n",
       "    Target  \n",
       "0  Grocery  \n",
       "1  Grocery  \n",
       "2  Grocery  \n",
       "3  Grocery  \n",
       "4  Grocery  "
      ]
     },
     "execution_count": 83,
     "metadata": {},
     "output_type": "execute_result"
    }
   ],
   "source": [
    "Grocery.head()"
   ]
  },
  {
   "cell_type": "code",
   "execution_count": 84,
   "metadata": {},
   "outputs": [
    {
     "data": {
      "text/html": [
       "<div>\n",
       "<style scoped>\n",
       "    .dataframe tbody tr th:only-of-type {\n",
       "        vertical-align: middle;\n",
       "    }\n",
       "\n",
       "    .dataframe tbody tr th {\n",
       "        vertical-align: top;\n",
       "    }\n",
       "\n",
       "    .dataframe thead th {\n",
       "        text-align: right;\n",
       "    }\n",
       "</style>\n",
       "<table border=\"1\" class=\"dataframe\">\n",
       "  <thead>\n",
       "    <tr style=\"text-align: right;\">\n",
       "      <th></th>\n",
       "      <th>Name</th>\n",
       "      <th>Longitude</th>\n",
       "      <th>Lattitude</th>\n",
       "      <th>Target</th>\n",
       "    </tr>\n",
       "  </thead>\n",
       "  <tbody>\n",
       "    <tr>\n",
       "      <th>0</th>\n",
       "      <td>Nature's Fuel &amp; Foodzone</td>\n",
       "      <td>19.383923</td>\n",
       "      <td>72.829269</td>\n",
       "      <td>Food</td>\n",
       "    </tr>\n",
       "    <tr>\n",
       "      <th>1</th>\n",
       "      <td>Pic A Bite - Vartak Branch</td>\n",
       "      <td>19.383862</td>\n",
       "      <td>72.829265</td>\n",
       "      <td>Food</td>\n",
       "    </tr>\n",
       "    <tr>\n",
       "      <th>2</th>\n",
       "      <td>Chai Nation</td>\n",
       "      <td>19.384235</td>\n",
       "      <td>72.829568</td>\n",
       "      <td>Food</td>\n",
       "    </tr>\n",
       "    <tr>\n",
       "      <th>3</th>\n",
       "      <td>Souffle Cake Shop Vasai station</td>\n",
       "      <td>19.383440</td>\n",
       "      <td>72.830434</td>\n",
       "      <td>Food</td>\n",
       "    </tr>\n",
       "    <tr>\n",
       "      <th>4</th>\n",
       "      <td>Ross exotic</td>\n",
       "      <td>19.383402</td>\n",
       "      <td>72.830422</td>\n",
       "      <td>Food</td>\n",
       "    </tr>\n",
       "  </tbody>\n",
       "</table>\n",
       "</div>"
      ],
      "text/plain": [
       "                             Name   Longitude  Lattitude Target\n",
       "0         Nature's Fuel & Foodzone  19.383923  72.829269   Food\n",
       "1       Pic A Bite - Vartak Branch  19.383862  72.829265   Food\n",
       "2                      Chai Nation  19.384235  72.829568   Food\n",
       "3  Souffle Cake Shop Vasai station  19.383440  72.830434   Food\n",
       "4                      Ross exotic  19.383402  72.830422   Food"
      ]
     },
     "execution_count": 84,
     "metadata": {},
     "output_type": "execute_result"
    }
   ],
   "source": [
    "Food.head()"
   ]
  },
  {
   "cell_type": "code",
   "execution_count": 85,
   "metadata": {},
   "outputs": [],
   "source": [
    "new_grocery=Grocery.drop(['address'],axis=1)"
   ]
  },
  {
   "cell_type": "code",
   "execution_count": 86,
   "metadata": {},
   "outputs": [],
   "source": [
    "df=pd.concat([new_grocery,shopping,Food,Medical],axis=0)"
   ]
  },
  {
   "cell_type": "code",
   "execution_count": 87,
   "metadata": {},
   "outputs": [
    {
     "data": {
      "text/html": [
       "<div>\n",
       "<style scoped>\n",
       "    .dataframe tbody tr th:only-of-type {\n",
       "        vertical-align: middle;\n",
       "    }\n",
       "\n",
       "    .dataframe tbody tr th {\n",
       "        vertical-align: top;\n",
       "    }\n",
       "\n",
       "    .dataframe thead th {\n",
       "        text-align: right;\n",
       "    }\n",
       "</style>\n",
       "<table border=\"1\" class=\"dataframe\">\n",
       "  <thead>\n",
       "    <tr style=\"text-align: right;\">\n",
       "      <th></th>\n",
       "      <th>Name</th>\n",
       "      <th>Longitude</th>\n",
       "      <th>Lattitude</th>\n",
       "      <th>Target</th>\n",
       "    </tr>\n",
       "  </thead>\n",
       "  <tbody>\n",
       "    <tr>\n",
       "      <th>0</th>\n",
       "      <td>Jalaram Kirana Stores</td>\n",
       "      <td>19.383820</td>\n",
       "      <td>72.827441</td>\n",
       "      <td>Grocery</td>\n",
       "    </tr>\n",
       "    <tr>\n",
       "      <th>1</th>\n",
       "      <td>Vedika Kirana And General Store</td>\n",
       "      <td>19.385399</td>\n",
       "      <td>72.824515</td>\n",
       "      <td>Grocery</td>\n",
       "    </tr>\n",
       "    <tr>\n",
       "      <th>2</th>\n",
       "      <td>Vardhman Grain Stores</td>\n",
       "      <td>19.381146</td>\n",
       "      <td>72.829525</td>\n",
       "      <td>Grocery</td>\n",
       "    </tr>\n",
       "    <tr>\n",
       "      <th>3</th>\n",
       "      <td>J J Store</td>\n",
       "      <td>19.381672</td>\n",
       "      <td>72.828753</td>\n",
       "      <td>Grocery</td>\n",
       "    </tr>\n",
       "    <tr>\n",
       "      <th>4</th>\n",
       "      <td>Nyra Mini Market</td>\n",
       "      <td>19.381956</td>\n",
       "      <td>72.827817</td>\n",
       "      <td>Grocery</td>\n",
       "    </tr>\n",
       "    <tr>\n",
       "      <th>...</th>\n",
       "      <td>...</td>\n",
       "      <td>...</td>\n",
       "      <td>...</td>\n",
       "      <td>...</td>\n",
       "    </tr>\n",
       "    <tr>\n",
       "      <th>19</th>\n",
       "      <td>Maharashtra medio</td>\n",
       "      <td>19.381074</td>\n",
       "      <td>72.832021</td>\n",
       "      <td>Medical</td>\n",
       "    </tr>\n",
       "    <tr>\n",
       "      <th>20</th>\n",
       "      <td>Prajapati  medical</td>\n",
       "      <td>19.381796</td>\n",
       "      <td>72.832041</td>\n",
       "      <td>Medical</td>\n",
       "    </tr>\n",
       "    <tr>\n",
       "      <th>21</th>\n",
       "      <td>sunshine chemist</td>\n",
       "      <td>19.381796</td>\n",
       "      <td>72.832041</td>\n",
       "      <td>Medical</td>\n",
       "    </tr>\n",
       "    <tr>\n",
       "      <th>22</th>\n",
       "      <td>VVSB Ushakiranmedical And General Store</td>\n",
       "      <td>19.391736</td>\n",
       "      <td>72.826589</td>\n",
       "      <td>Medical</td>\n",
       "    </tr>\n",
       "    <tr>\n",
       "      <th>23</th>\n",
       "      <td>Parizad medical</td>\n",
       "      <td>19.389085</td>\n",
       "      <td>72.825989</td>\n",
       "      <td>Medical</td>\n",
       "    </tr>\n",
       "  </tbody>\n",
       "</table>\n",
       "<p>110 rows × 4 columns</p>\n",
       "</div>"
      ],
      "text/plain": [
       "                                      Name   Longitude  Lattitude   Target\n",
       "0                     Jalaram Kirana Stores  19.383820  72.827441  Grocery\n",
       "1           Vedika Kirana And General Store  19.385399  72.824515  Grocery\n",
       "2                     Vardhman Grain Stores  19.381146  72.829525  Grocery\n",
       "3                                 J J Store  19.381672  72.828753  Grocery\n",
       "4                          Nyra Mini Market  19.381956  72.827817  Grocery\n",
       "..                                      ...        ...        ...      ...\n",
       "19                       Maharashtra medio   19.381074  72.832021  Medical\n",
       "20                      Prajapati  medical   19.381796  72.832041  Medical\n",
       "21                        sunshine chemist   19.381796  72.832041  Medical\n",
       "22  VVSB Ushakiranmedical And General Store  19.391736  72.826589  Medical\n",
       "23                         Parizad medical   19.389085  72.825989  Medical\n",
       "\n",
       "[110 rows x 4 columns]"
      ]
     },
     "execution_count": 87,
     "metadata": {},
     "output_type": "execute_result"
    }
   ],
   "source": [
    "df"
   ]
  },
  {
   "cell_type": "code",
   "execution_count": 88,
   "metadata": {},
   "outputs": [
    {
     "data": {
      "text/plain": [
       "Index(['Name ', 'Longitude', 'Lattitude', 'Target'], dtype='object')"
      ]
     },
     "execution_count": 88,
     "metadata": {},
     "output_type": "execute_result"
    }
   ],
   "source": [
    "df.columns"
   ]
  },
  {
   "cell_type": "code",
   "execution_count": 89,
   "metadata": {},
   "outputs": [],
   "source": [
    "def get_name(data):\n",
    "  for x in data:\n",
    "   names = x['Name '] \n",
    "  for x in data:\n",
    "   target =x['Target'] \n",
    "  return names , target"
   ]
  },
  {
   "cell_type": "code",
   "execution_count": 90,
   "metadata": {},
   "outputs": [],
   "source": [
    "df_new=df.drop(['Longitude', 'Lattitude'],axis=1)"
   ]
  },
  {
   "cell_type": "code",
   "execution_count": 91,
   "metadata": {},
   "outputs": [
    {
     "ename": "TypeError",
     "evalue": "string indices must be integers",
     "output_type": "error",
     "traceback": [
      "\u001b[1;31m---------------------------------------------------------------------------\u001b[0m",
      "\u001b[1;31mTypeError\u001b[0m                                 Traceback (most recent call last)",
      "\u001b[1;32me:\\Geological Location Analysis\\classification.ipynb Cell 13\u001b[0m in \u001b[0;36m<cell line: 1>\u001b[1;34m()\u001b[0m\n\u001b[1;32m----> <a href='vscode-notebook-cell:/e%3A/Geological%20Location%20Analysis/classification.ipynb#X13sZmlsZQ%3D%3D?line=0'>1</a>\u001b[0m names, target\u001b[39m=\u001b[39m get_name(df_new)\n",
      "\u001b[1;32me:\\Geological Location Analysis\\classification.ipynb Cell 13\u001b[0m in \u001b[0;36mget_name\u001b[1;34m(data)\u001b[0m\n\u001b[0;32m      <a href='vscode-notebook-cell:/e%3A/Geological%20Location%20Analysis/classification.ipynb#X13sZmlsZQ%3D%3D?line=0'>1</a>\u001b[0m \u001b[39mdef\u001b[39;00m \u001b[39mget_name\u001b[39m(data):\n\u001b[0;32m      <a href='vscode-notebook-cell:/e%3A/Geological%20Location%20Analysis/classification.ipynb#X13sZmlsZQ%3D%3D?line=1'>2</a>\u001b[0m   \u001b[39mfor\u001b[39;00m x \u001b[39min\u001b[39;00m data:\n\u001b[1;32m----> <a href='vscode-notebook-cell:/e%3A/Geological%20Location%20Analysis/classification.ipynb#X13sZmlsZQ%3D%3D?line=2'>3</a>\u001b[0m    names \u001b[39m=\u001b[39m x[\u001b[39m'\u001b[39;49m\u001b[39mName \u001b[39;49m\u001b[39m'\u001b[39;49m] \n\u001b[0;32m      <a href='vscode-notebook-cell:/e%3A/Geological%20Location%20Analysis/classification.ipynb#X13sZmlsZQ%3D%3D?line=3'>4</a>\u001b[0m   \u001b[39mfor\u001b[39;00m x \u001b[39min\u001b[39;00m data:\n\u001b[0;32m      <a href='vscode-notebook-cell:/e%3A/Geological%20Location%20Analysis/classification.ipynb#X13sZmlsZQ%3D%3D?line=4'>5</a>\u001b[0m    target \u001b[39m=\u001b[39mx[\u001b[39m'\u001b[39m\u001b[39mTarget\u001b[39m\u001b[39m'\u001b[39m] \n",
      "\u001b[1;31mTypeError\u001b[0m: string indices must be integers"
     ]
    }
   ],
   "source": [
    "names, target= get_name(df_new)"
   ]
  },
  {
   "cell_type": "code",
   "execution_count": 92,
   "metadata": {},
   "outputs": [
    {
     "data": {
      "text/plain": [
       "(<generator object get_name.<locals>.<genexpr> at 0x0000025803566430>,\n",
       " <generator object get_name.<locals>.<genexpr> at 0x00000258036900B0>)"
      ]
     },
     "execution_count": 92,
     "metadata": {},
     "output_type": "execute_result"
    }
   ],
   "source": [
    "names[0],target[0]"
   ]
  },
  {
   "cell_type": "code",
   "execution_count": 93,
   "metadata": {},
   "outputs": [],
   "source": [
    "a=df['Name ']"
   ]
  },
  {
   "cell_type": "code",
   "execution_count": 94,
   "metadata": {},
   "outputs": [
    {
     "data": {
      "text/plain": [
       "2    Vardhman Grain Stores\n",
       "2     Glam By Neha Fashion\n",
       "2              Chai Nation\n",
       "2           Rathod chemist\n",
       "Name: Name , dtype: object"
      ]
     },
     "execution_count": 94,
     "metadata": {},
     "output_type": "execute_result"
    }
   ],
   "source": [
    "a[2]"
   ]
  },
  {
   "cell_type": "code",
   "execution_count": 95,
   "metadata": {},
   "outputs": [],
   "source": [
    "x=df['Name ']\n",
    "y=df['Target']"
   ]
  },
  {
   "cell_type": "code",
   "execution_count": 96,
   "metadata": {},
   "outputs": [
    {
     "data": {
      "text/plain": [
       "0                       Jalaram Kirana Stores\n",
       "1             Vedika Kirana And General Store\n",
       "2                       Vardhman Grain Stores\n",
       "3                                   J J Store\n",
       "4                            Nyra Mini Market\n",
       "                       ...                   \n",
       "19                         Maharashtra medio \n",
       "20                        Prajapati  medical \n",
       "21                          sunshine chemist \n",
       "22    VVSB Ushakiranmedical And General Store\n",
       "23                           Parizad medical \n",
       "Name: Name , Length: 110, dtype: object"
      ]
     },
     "execution_count": 96,
     "metadata": {},
     "output_type": "execute_result"
    }
   ],
   "source": [
    "x\n"
   ]
  },
  {
   "cell_type": "code",
   "execution_count": 97,
   "metadata": {},
   "outputs": [
    {
     "data": {
      "text/plain": [
       "0     Grocery\n",
       "1     Grocery\n",
       "2     Grocery\n",
       "3     Grocery\n",
       "4     Grocery\n",
       "       ...   \n",
       "19    Medical\n",
       "20    Medical\n",
       "21    Medical\n",
       "22    Medical\n",
       "23    Medical\n",
       "Name: Target, Length: 110, dtype: object"
      ]
     },
     "execution_count": 97,
     "metadata": {},
     "output_type": "execute_result"
    }
   ],
   "source": [
    "y"
   ]
  },
  {
   "cell_type": "code",
   "execution_count": 98,
   "metadata": {},
   "outputs": [],
   "source": [
    "from sklearn.model_selection import train_test_split\n",
    "\n",
    "xtrain,xtest,ytrain,ytest=train_test_split(x,y,random_state=4,test_size=0.3)"
   ]
  },
  {
   "cell_type": "code",
   "execution_count": 99,
   "metadata": {},
   "outputs": [
    {
     "data": {
      "text/plain": [
       "(1         Pic A Bite - Vartak Branch\n",
       " 1    Asuntha Tailoring & Alterations\n",
       " 1                 G.S pharmacy vasai\n",
       " 1    Vedika Kirana And General Store\n",
       " Name: Name , dtype: object,\n",
       " 1        Food\n",
       " 1    Shopping\n",
       " 1     Medical\n",
       " 1     Grocery\n",
       " Name: Target, dtype: object)"
      ]
     },
     "execution_count": 99,
     "metadata": {},
     "output_type": "execute_result"
    }
   ],
   "source": [
    "xtrain[1],ytrain[1]"
   ]
  },
  {
   "cell_type": "code",
   "execution_count": 100,
   "metadata": {},
   "outputs": [],
   "source": [
    "from tensorflow.keras.preprocessing.text import Tokenizer\n"
   ]
  },
  {
   "cell_type": "code",
   "execution_count": 101,
   "metadata": {},
   "outputs": [],
   "source": [
    "tokenizer = Tokenizer(num_words=10000 , oov_token='<UNK>')\n",
    "tokenizer.fit_on_texts(xtrain)"
   ]
  },
  {
   "cell_type": "code",
   "execution_count": 116,
   "metadata": {},
   "outputs": [
    {
     "data": {
      "text/plain": [
       "[[131, 27, 11], [20, 1, 2, 88], [1, 1, 1], [55, 6]]"
      ]
     },
     "execution_count": 116,
     "metadata": {},
     "output_type": "execute_result"
    }
   ],
   "source": [
    "tokenizer.texts_to_sequences(x[0])\n"
   ]
  },
  {
   "cell_type": "code",
   "execution_count": 117,
   "metadata": {},
   "outputs": [
    {
     "data": {
      "text/plain": [
       "0       Jalaram Kirana Stores\n",
       "0     A STAR FASHION BOUTIQUE\n",
       "0    Nature's Fuel & Foodzone\n",
       "0           sunshine chemist \n",
       "Name: Name , dtype: object"
      ]
     },
     "execution_count": 117,
     "metadata": {},
     "output_type": "execute_result"
    }
   ],
   "source": [
    "x[0]"
   ]
  },
  {
   "cell_type": "code",
   "execution_count": 128,
   "metadata": {},
   "outputs": [],
   "source": [
    "import matplotlib.pyplot as plt"
   ]
  },
  {
   "cell_type": "code",
   "execution_count": 129,
   "metadata": {},
   "outputs": [
    {
     "data": {
      "image/png": "[encoded data removed]",
      "text/plain": [
       "<Figure size 432x288 with 1 Axes>"
      ]
     },
     "metadata": {
      "needs_background": "light"
     },
     "output_type": "display_data"
    }
   ],
   "source": [
    "lengths =[len(t.split(' ')) for t in x]\n",
    "plt.hist(lengths, bins=len(set(lengths)))\n",
    "plt.show()"
   ]
  },
  {
   "cell_type": "code",
   "execution_count": 130,
   "metadata": {},
   "outputs": [],
   "source": [
    "maxlen = 6\n",
    "from tensorflow.keras.preprocessing.sequence import pad_sequences"
   ]
  },
  {
   "cell_type": "code",
   "execution_count": 131,
   "metadata": {},
   "outputs": [],
   "source": [
    "def get_sequences(tokenizer , names):\n",
    "  seq = tokenizer.texts_to_sequences(names)\n",
    "  padded = pad_sequences(seq, truncating='post', padding='post',maxlen=maxlen)\n",
    "  return padded"
   ]
  },
  {
   "cell_type": "code",
   "execution_count": 132,
   "metadata": {},
   "outputs": [],
   "source": [
    "padded_x=get_sequences(tokenizer,x)"
   ]
  },
  {
   "cell_type": "code",
   "execution_count": 133,
   "metadata": {},
   "outputs": [
    {
     "data": {
      "text/plain": [
       "array([[131,  27,  11,   0,   0,   0],\n",
       "       [151,  27,  28,   7,   3,   0],\n",
       "       [  1,   1,  11,   0,   0,   0],\n",
       "       [ 14,  14,   3,   0,   0,   0],\n",
       "       [ 34,  35,  36,   0,   0,   0],\n",
       "       [  1,   1,   0,   0,   0,   0],\n",
       "       [ 65,  23,   0,   0,   0,   0],\n",
       "       [ 59,  11,   0,   0,   0,   0],\n",
       "       [108, 109, 110,   0,   0,   0],\n",
       "       [144,  23,   0,   0,   0,   0],\n",
       "       [  1,  57,  22,   0,   0,   0],\n",
       "       [ 24,  21,  67,   7,   3,   0],\n",
       "       [ 83,  84,   0,   0,   0,   0],\n",
       "       [102,   7,  11,   0,   0,   0],\n",
       "       [ 44,  45,   1,  36,   0,   0],\n",
       "       [ 51,   7,   3,   0,   0,   0],\n",
       "       [  1,  27,   3,   0,   0,   0],\n",
       "       [ 89,   7,  11,   0,   0,   0],\n",
       "       [ 21,  56,  57,   0,   0,   0],\n",
       "       [  1,   1,   1,  36,   0,   0],\n",
       "       [ 20,   1,   2,  88,   0,   0],\n",
       "       [126, 127, 128,   0,   0,   0],\n",
       "       [ 71,  72,  73,   2,   0,   0],\n",
       "       [ 79,  25,  80,  81,  82,   0],\n",
       "       [  1,   1,   3,  10,   0,   0],\n",
       "       [  1,   1,   0,   0,   0,   0],\n",
       "       [ 48,   1,   0,   0,   0,   0],\n",
       "       [ 48,  49,   0,   0,   0,   0],\n",
       "       [ 93,   0,   0,   0,   0,   0],\n",
       "       [  1,   1,   2,   0,   0,   0],\n",
       "       [111,   2, 112,   0,   0,   0],\n",
       "       [  2,  15,  16,   5,  29,  17],\n",
       "       [101,  19,   0,   0,   0,   0],\n",
       "       [  2,  96,   0,   0,   0,   0],\n",
       "       [  2,   1,   0,   0,   0,   0],\n",
       "       [  1,   1,   5,   0,   0,   0],\n",
       "       [138,   2,   0,   0,   0,   0],\n",
       "       [ 42,  19,  43,   0,   0,   0],\n",
       "       [133,  13,   0,   0,   0,   0],\n",
       "       [ 63,  64,   0,   0,   0,   0],\n",
       "       [  2, 100,   0,   0,   0,   0],\n",
       "       [ 40,  41,   0,   0,   0,   0],\n",
       "       [ 98,  99,   5,   0,   0,   0],\n",
       "       [ 21,  86,   1,   1,   0,   0],\n",
       "       [134, 135, 136,   3,   0,   0],\n",
       "       [ 97,   8,   0,   0,   0,   0],\n",
       "       [155, 156,  13,   0,   0,   0],\n",
       "       [  1,  86,   0,   0,   0,   0],\n",
       "       [ 85,  86,   0,   0,   0,   0],\n",
       "       [106, 107,  26,   5,   0,   0],\n",
       "       [145, 146,   0,   0,   0,   0],\n",
       "       [ 37,   8,   0,   0,   0,   0],\n",
       "       [132,  26,   5,   0,   0,   0],\n",
       "       [ 10,   1,   1,   1,   0,   0],\n",
       "       [  1,   1,   0,   0,   0,   0],\n",
       "       [154,   0,   0,   0,   0,   0],\n",
       "       [117,   2, 118,   0,   0,   0],\n",
       "       [ 20,  14,   2,   0,   0,   0],\n",
       "       [  2, 143,   0,   0,   0,   0],\n",
       "       [ 87,  88,   0,   0,   0,   0],\n",
       "       [ 66,   8,   0,   0,   0,   0],\n",
       "       [  2,  15,  16,   5,   0,   0],\n",
       "       [  2,   1,   0,   0,   0,   0],\n",
       "       [  1,   1,   1,   0,   0,   0],\n",
       "       [ 52,  20,  53,  54,  17,   0],\n",
       "       [  1,   1,   0,   0,   0,   0],\n",
       "       [114, 115,  13,  10, 116,   0],\n",
       "       [  1,   1,   0,   0,   0,   0],\n",
       "       [ 68,  69,  70,   0,   0,   0],\n",
       "       [152, 153,   0,   0,   0,   0],\n",
       "       [ 38,  18,  39,   0,   0,   0],\n",
       "       [ 10,   1,   0,   0,   0,   0],\n",
       "       [147, 148,   0,   0,   0,   0],\n",
       "       [121, 122, 123,   0,   0,   0],\n",
       "       [  1,   1,   0,   0,   0,   0],\n",
       "       [ 94,  95,   0,   0,   0,   0],\n",
       "       [  1,   1,   0,   0,   0,   0],\n",
       "       [ 77,  78,   0,   0,   0,   0],\n",
       "       [  1, 148,   0,   0,   0,   0],\n",
       "       [ 44,  45,  46,  18,  47,   0],\n",
       "       [ 74,  75,  76,  22,   0,   0],\n",
       "       [  1,   1,   0,   0,   0,   0],\n",
       "       [103, 104, 105,   0,   0,   0],\n",
       "       [ 31,  32,  33,   0,   0,   0],\n",
       "       [  1,   1,   0,   0,   0,   0],\n",
       "       [ 60,  61,  22,   0,   0,   0],\n",
       "       [ 55,   6,   0,   0,   0,   0],\n",
       "       [149,  25,  12,  10,   0,   0],\n",
       "       [  1,   6,   0,   0,   0,   0],\n",
       "       [  1,   6,   0,   0,   0,   0],\n",
       "       [  9,  92,   6,   0,   0,   0],\n",
       "       [ 30,   6,   0,   0,   0,   0],\n",
       "       [119, 120,   6,   0,   0,   0],\n",
       "       [  1,   1,   0,   0,   0,   0],\n",
       "       [142,   4,   0,   0,   0,   0],\n",
       "       [  9,  50,   6,   0,   0,   0],\n",
       "       [ 91,   4,   0,   0,   0,   0],\n",
       "       [129, 130,   3,   0,   0,   0],\n",
       "       [139, 140,   0,   0,   0,   0],\n",
       "       [  9,  90,   4,   0,   0,   0],\n",
       "       [102,   4,   0,   0,   0,   0],\n",
       "       [ 10,  58,   0,   0,   0,   0],\n",
       "       [137,   4,   0,   0,   0,   0],\n",
       "       [ 62,  12,   0,   0,   0,   0],\n",
       "       [150,  12,   0,   0,   0,   0],\n",
       "       [124, 125,   0,   0,   0,   0],\n",
       "       [  1,   4,   0,   0,   0,   0],\n",
       "       [ 55,   6,   0,   0,   0,   0],\n",
       "       [ 24, 141,  28,   7,   3,   0],\n",
       "       [113,   4,   0,   0,   0,   0]])"
      ]
     },
     "execution_count": 133,
     "metadata": {},
     "output_type": "execute_result"
    }
   ],
   "source": [
    "padded_x"
   ]
  },
  {
   "cell_type": "code",
   "execution_count": 134,
   "metadata": {},
   "outputs": [],
   "source": [
    "classes = set(y)\n"
   ]
  },
  {
   "cell_type": "code",
   "execution_count": 135,
   "metadata": {},
   "outputs": [
    {
     "data": {
      "text/plain": [
       "{'Food', 'Grocery', 'Medical', 'Shopping'}"
      ]
     },
     "execution_count": 135,
     "metadata": {},
     "output_type": "execute_result"
    }
   ],
   "source": [
    "classes"
   ]
  },
  {
   "cell_type": "code",
   "execution_count": 136,
   "metadata": {},
   "outputs": [
    {
     "data": {
      "image/png": "[encoded data removed]",
      "text/plain": [
       "<Figure size 432x288 with 1 Axes>"
      ]
     },
     "metadata": {
      "needs_background": "light"
     },
     "output_type": "display_data"
    }
   ],
   "source": [
    "plt.hist(y, bins =11)\n",
    "plt.show()"
   ]
  },
  {
   "cell_type": "code",
   "execution_count": 137,
   "metadata": {},
   "outputs": [],
   "source": [
    "class_to_index = dict((c,i) for i,c in enumerate(classes))\n",
    "index_to_class =dict((v,k) for k , v in class_to_index.items())"
   ]
  },
  {
   "cell_type": "code",
   "execution_count": 158,
   "metadata": {},
   "outputs": [
    {
     "data": {
      "text/plain": [
       "{'Food': 0, 'Shopping': 1, 'Medical': 2, 'Grocery': 3}"
      ]
     },
     "execution_count": 158,
     "metadata": {},
     "output_type": "execute_result"
    }
   ],
   "source": [
    "class_to_index"
   ]
  },
  {
   "cell_type": "code",
   "execution_count": 159,
   "metadata": {},
   "outputs": [
    {
     "data": {
      "text/plain": [
       "{0: 'Food', 1: 'Shopping', 2: 'Medical', 3: 'Grocery'}"
      ]
     },
     "execution_count": 159,
     "metadata": {},
     "output_type": "execute_result"
    }
   ],
   "source": [
    "index_to_class"
   ]
  },
  {
   "cell_type": "code",
   "execution_count": 139,
   "metadata": {},
   "outputs": [],
   "source": [
    "import numpy as np"
   ]
  },
  {
   "cell_type": "code",
   "execution_count": 140,
   "metadata": {},
   "outputs": [],
   "source": [
    "names_to_ids = lambda labels: np.array([class_to_index.get(x) for x in labels])\n"
   ]
  },
  {
   "cell_type": "code",
   "execution_count": 141,
   "metadata": {},
   "outputs": [],
   "source": [
    "train_labels=names_to_ids(y)\n"
   ]
  },
  {
   "cell_type": "code",
   "execution_count": 142,
   "metadata": {},
   "outputs": [
    {
     "data": {
      "text/plain": [
       "array([3, 3, 3, 3, 3, 3, 3, 3, 3, 3, 3, 3, 3, 3, 3, 3, 3, 3, 3, 3, 1, 1,\n",
       "       1, 1, 1, 1, 1, 1, 1, 1, 1, 1, 1, 1, 1, 1, 1, 1, 1, 1, 1, 1, 1, 1,\n",
       "       1, 1, 1, 1, 1, 1, 1, 1, 1, 1, 1, 1, 1, 1, 1, 1, 1, 1, 1, 0, 0, 0,\n",
       "       0, 0, 0, 0, 0, 0, 0, 0, 0, 0, 0, 0, 0, 0, 0, 0, 0, 0, 0, 0, 2, 2,\n",
       "       2, 2, 2, 2, 2, 2, 2, 2, 2, 2, 2, 2, 2, 2, 2, 2, 2, 2, 2, 2, 2, 2])"
      ]
     },
     "execution_count": 142,
     "metadata": {},
     "output_type": "execute_result"
    }
   ],
   "source": [
    "train_labels"
   ]
  },
  {
   "cell_type": "code",
   "execution_count": 143,
   "metadata": {},
   "outputs": [],
   "source": [
    "from sklearn.model_selection import train_test_split\n",
    "\n",
    "xtrain,xtest,ytrain,ytest=train_test_split(padded_x,train_labels,random_state=4,test_size=0.3)"
   ]
  },
  {
   "cell_type": "code",
   "execution_count": 154,
   "metadata": {},
   "outputs": [],
   "source": [
    "from sklearn.ensemble import RandomForestClassifier\n",
    "from sklearn.metrics import accuracy_score\n",
    "RF=RandomForestClassifier()"
   ]
  },
  {
   "cell_type": "code",
   "execution_count": 155,
   "metadata": {},
   "outputs": [
    {
     "data": {
      "text/html": [
       "<style>#sk-container-id-2 {color: black;background-color: white;}#sk-container-id-2 pre{padding: 0;}#sk-container-id-2 div.sk-toggleable {background-color: white;}#sk-container-id-2 label.sk-toggleable__label {cursor: pointer;display: block;width: 100%;margin-bottom: 0;padding: 0.3em;box-sizing: border-box;text-align: center;}#sk-container-id-2 label.sk-toggleable__label-arrow:before {content: \"▸\";float: left;margin-right: 0.25em;color: #696969;}#sk-container-id-2 label.sk-toggleable__label-arrow:hover:before {color: black;}#sk-container-id-2 div.sk-estimator:hover label.sk-toggleable__label-arrow:before {color: black;}#sk-container-id-2 div.sk-toggleable__content {max-height: 0;max-width: 0;overflow: hidden;text-align: left;background-color: #f0f8ff;}#sk-container-id-2 div.sk-toggleable__content pre {margin: 0.2em;color: black;border-radius: 0.25em;background-color: #f0f8ff;}#sk-container-id-2 input.sk-toggleable__control:checked~div.sk-toggleable__content {max-height: 200px;max-width: 100%;overflow: auto;}#sk-container-id-2 input.sk-toggleable__control:checked~label.sk-toggleable__label-arrow:before {content: \"▾\";}#sk-container-id-2 div.sk-estimator input.sk-toggleable__control:checked~label.sk-toggleable__label {background-color: #d4ebff;}#sk-container-id-2 div.sk-label input.sk-toggleable__control:checked~label.sk-toggleable__label {background-color: #d4ebff;}#sk-container-id-2 input.sk-hidden--visually {border: 0;clip: rect(1px 1px 1px 1px);clip: rect(1px, 1px, 1px, 1px);height: 1px;margin: -1px;overflow: hidden;padding: 0;position: absolute;width: 1px;}#sk-container-id-2 div.sk-estimator {font-family: monospace;background-color: #f0f8ff;border: 1px dotted black;border-radius: 0.25em;box-sizing: border-box;margin-bottom: 0.5em;}#sk-container-id-2 div.sk-estimator:hover {background-color: #d4ebff;}#sk-container-id-2 div.sk-parallel-item::after {content: \"\";width: 100%;border-bottom: 1px solid gray;flex-grow: 1;}#sk-container-id-2 div.sk-label:hover label.sk-toggleable__label {background-color: #d4ebff;}#sk-container-id-2 div.sk-serial::before {content: \"\";position: absolute;border-left: 1px solid gray;box-sizing: border-box;top: 0;bottom: 0;left: 50%;z-index: 0;}#sk-container-id-2 div.sk-serial {display: flex;flex-direction: column;align-items: center;background-color: white;padding-right: 0.2em;padding-left: 0.2em;position: relative;}#sk-container-id-2 div.sk-item {position: relative;z-index: 1;}#sk-container-id-2 div.sk-parallel {display: flex;align-items: stretch;justify-content: center;background-color: white;position: relative;}#sk-container-id-2 div.sk-item::before, #sk-container-id-2 div.sk-parallel-item::before {content: \"\";position: absolute;border-left: 1px solid gray;box-sizing: border-box;top: 0;bottom: 0;left: 50%;z-index: -1;}#sk-container-id-2 div.sk-parallel-item {display: flex;flex-direction: column;z-index: 1;position: relative;background-color: white;}#sk-container-id-2 div.sk-parallel-item:first-child::after {align-self: flex-end;width: 50%;}#sk-container-id-2 div.sk-parallel-item:last-child::after {align-self: flex-start;width: 50%;}#sk-container-id-2 div.sk-parallel-item:only-child::after {width: 0;}#sk-container-id-2 div.sk-dashed-wrapped {border: 1px dashed gray;margin: 0 0.4em 0.5em 0.4em;box-sizing: border-box;padding-bottom: 0.4em;background-color: white;}#sk-container-id-2 div.sk-label label {font-family: monospace;font-weight: bold;display: inline-block;line-height: 1.2em;}#sk-container-id-2 div.sk-label-container {text-align: center;}#sk-container-id-2 div.sk-container {/* jupyter's `normalize.less` sets `[hidden] { display: none; }` but bootstrap.min.css set `[hidden] { display: none !important; }` so we also need the `!important` here to be able to override the default hidden behavior on the sphinx rendered scikit-learn.org. See: https://github.com/scikit-learn/scikit-learn/issues/21755 */display: inline-block !important;position: relative;}#sk-container-id-2 div.sk-text-repr-fallback {display: none;}</style><div id=\"sk-container-id-2\" class=\"sk-top-container\"><div class=\"sk-text-repr-fallback\"><pre>RandomForestClassifier()</pre><b>In a Jupyter environment, please rerun this cell to show the HTML representation or trust the notebook. <br />On GitHub, the HTML representation is unable to render, please try loading this page with nbviewer.org.</b></div><div class=\"sk-container\" hidden><div class=\"sk-item\"><div class=\"sk-estimator sk-toggleable\"><input class=\"sk-toggleable__control sk-hidden--visually\" id=\"sk-estimator-id-2\" type=\"checkbox\" checked><label for=\"sk-estimator-id-2\" class=\"sk-toggleable__label sk-toggleable__label-arrow\">RandomForestClassifier</label><div class=\"sk-toggleable__content\"><pre>RandomForestClassifier()</pre></div></div></div></div></div>"
      ],
      "text/plain": [
       "RandomForestClassifier()"
      ]
     },
     "execution_count": 155,
     "metadata": {},
     "output_type": "execute_result"
    }
   ],
   "source": [
    "RF.fit(xtrain,ytrain)"
   ]
  },
  {
   "cell_type": "code",
   "execution_count": 156,
   "metadata": {},
   "outputs": [],
   "source": [
    "ypred=RF.predict(xtest)"
   ]
  },
  {
   "cell_type": "code",
   "execution_count": 157,
   "metadata": {},
   "outputs": [
    {
     "data": {
      "text/plain": [
       "0.5151515151515151"
      ]
     },
     "execution_count": 157,
     "metadata": {},
     "output_type": "execute_result"
    }
   ],
   "source": [
    "accuracy_score(ytest,ypred)"
   ]
  },
  {
   "cell_type": "code",
   "execution_count": null,
   "metadata": {},
   "outputs": [],
   "source": []
  }
 ],
 "metadata": {
  "kernelspec": {
   "display_name": "Python 3.8.0 64-bit",
   "language": "python",
   "name": "python3"
  },
  "language_info": {
   "codemirror_mode": {
    "name": "ipython",
    "version": 3
   },
   "file_extension": ".py",
   "mimetype": "text/x-python",
   "name": "python",
   "nbconvert_exporter": "python",
   "pygments_lexer": "ipython3",
   "version": "3.8.0"
  },
  "orig_nbformat": 4,
  "vscode": {
   "interpreter": {
    "hash": "545160c0dc388bda5bc2c3edf4f40c3614a1c39f295b9676d4fece68ac27a36f"
   }
  }
 },
 "nbformat": 4,
 "nbformat_minor": 2
}
